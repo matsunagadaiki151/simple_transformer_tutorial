{
  "nbformat": 4,
  "nbformat_minor": 0,
  "metadata": {
    "colab": {
      "name": "SimpleTransformer_livedoor_title.ipynb",
      "provenance": [],
      "collapsed_sections": []
    },
    "kernelspec": {
      "name": "python3",
      "display_name": "Python 3"
    },
    "language_info": {
      "name": "python"
    },
    "accelerator": "GPU"
  },
  "cells": [
    {
      "cell_type": "markdown",
      "source": [
        "## ここは必ず実行する．"
      ],
      "metadata": {
        "id": "qkUwTFWDKAl9"
      }
    },
    {
      "cell_type": "code",
      "source": [
        "!nvidia-smi"
      ],
      "metadata": {
        "id": "zviXGUUK5HwU"
      },
      "execution_count": null,
      "outputs": []
    },
    {
      "cell_type": "markdown",
      "source": [
        "モデルやデータセットを保存しておきたい場合はGoogle Driveで作業をしてください．"
      ],
      "metadata": {
        "id": "NAfWx2Pg6GEL"
      }
    },
    {
      "cell_type": "code",
      "execution_count": 2,
      "metadata": {
        "id": "IeL79INX4ZPb"
      },
      "outputs": [],
      "source": [
        "drive_mount = False #@param {type:\"boolean\"}\n",
        "if drive_mount:\n",
        "  from google.colab import drive\n",
        "  drive.mount('/content/drive')\n",
        "  %cd /content/drive/MyDrive/your_folder"
      ]
    },
    {
      "cell_type": "markdown",
      "source": [
        "## まだcsvファイルを作っていない場合はここからスタート"
      ],
      "metadata": {
        "id": "WfLrQfjjKHI9"
      }
    },
    {
      "cell_type": "code",
      "source": [
        "# livedoorニュースコーパスをインストール\n",
        "!wget https://www.rondhuit.com/download/ldcc-20140209.tar.gz\n",
        "# 解凍\n",
        "!tar -zxf ldcc-20140209.tar.gz\n",
        "!rm ldcc-20140209.tar.gz"
      ],
      "metadata": {
        "id": "J871DGob79tm"
      },
      "execution_count": null,
      "outputs": []
    },
    {
      "cell_type": "code",
      "source": [
        "# 中身を見る\n",
        "!head text/dokujo-tsushin/dokujo-tsushin-4778030.txt"
      ],
      "metadata": {
        "id": "-qGPLqne9XJk"
      },
      "execution_count": null,
      "outputs": []
    },
    {
      "cell_type": "markdown",
      "source": [
        "livedoorニュースコーパスでは，テキストファイルの3行目にタイトルが収録されています．"
      ],
      "metadata": {
        "id": "jx9Q0yNw9jj4"
      }
    },
    {
      "cell_type": "code",
      "source": [
        "import os\n",
        "import pandas as pd\n",
        "from sklearn.model_selection import train_test_split"
      ],
      "metadata": {
        "id": "I04E38m19O6w"
      },
      "execution_count": 6,
      "outputs": []
    },
    {
      "cell_type": "code",
      "source": [
        "data_path = './text/'"
      ],
      "metadata": {
        "id": "AXw84VZI90X7"
      },
      "execution_count": 7,
      "outputs": []
    },
    {
      "cell_type": "code",
      "source": [
        "data_files = os.listdir(data_path)\n",
        "# テキストディレクトリ内のデータフォルダのみを抽出する．\n",
        "data_dirs = [f for f in data_files if os.path.isdir(os.path.join(data_path, f))]\n",
        "print(data_dirs)"
      ],
      "metadata": {
        "colab": {
          "base_uri": "https://localhost:8080/"
        },
        "id": "p2hZtXlF9OKV",
        "outputId": "e28e980b-28ed-4657-a371-9c882109668d"
      },
      "execution_count": 8,
      "outputs": [
        {
          "output_type": "stream",
          "name": "stdout",
          "text": [
            "['dokujo-tsushin', 'peachy', 'topic-news', 'it-life-hack', 'movie-enter', 'livedoor-homme', 'sports-watch', 'kaden-channel', 'smax']\n"
          ]
        }
      ]
    },
    {
      "cell_type": "code",
      "source": [
        "# 各フォルダのLICENSE.txtは取り除くようにする．\n",
        "drop_files = ['LICENSE.txt']\n",
        "\n",
        "def load_titles(data_dir, label=None):\n",
        "  titles = []\n",
        "  text_path = os.path.join(data_path, data_dir)\n",
        "  text_files = os.listdir(text_path)\n",
        "  for text_file in text_files:\n",
        "    if text_file in drop_files:\n",
        "      continue\n",
        "    with open(os.path.join(text_path, text_file), 'r', encoding='utf8') as f:\n",
        "      # ファイルを読み込む\n",
        "      lines = f.read().strip().split('\\n')\n",
        "      titles.append(lines[2])\n",
        "  if label is None:\n",
        "    return titles\n",
        "  else:\n",
        "    labels = [label for i in range(len(titles))]\n",
        "    return titles, labels\n",
        "\n",
        "# 確認\n",
        "t, l = load_titles('dokujo-tsushin', 1)\n",
        "print(t[:5])\n",
        "print(l[:5])"
      ],
      "metadata": {
        "id": "1JVU9cpf-cyF"
      },
      "execution_count": null,
      "outputs": []
    },
    {
      "cell_type": "code",
      "source": [
        "all_titles = []\n",
        "all_labels = []\n",
        "label2genre = {}\n",
        "\n",
        "for i, data_dir in enumerate(data_dirs):\n",
        "  titles, labels = load_titles(data_dir, i)\n",
        "  all_titles.extend(titles)\n",
        "  all_labels.extend(labels)\n",
        "  label2genre[i] = data_dir\n",
        "  \n",
        "print(len(all_titles))\n",
        "print(len(all_labels))"
      ],
      "metadata": {
        "colab": {
          "base_uri": "https://localhost:8080/"
        },
        "id": "N91Vf2NmGP5b",
        "outputId": "d6d1819e-bfb0-4610-ec98-d2f3a2c34930"
      },
      "execution_count": 10,
      "outputs": [
        {
          "output_type": "stream",
          "name": "stdout",
          "text": [
            "7367\n",
            "7367\n"
          ]
        }
      ]
    },
    {
      "cell_type": "code",
      "source": [
        "import pickle\n",
        "# label2genreを保存しておく\n",
        "with open('label2genre.pkl', 'wb') as f:\n",
        "  pickle.dump(label2genre, f)"
      ],
      "metadata": {
        "id": "8U7Ol_N0kRav"
      },
      "execution_count": 11,
      "outputs": []
    },
    {
      "cell_type": "code",
      "source": [
        "# titleとラベルが関連付けられた，データフレームを作成\n",
        "livedoor_df = pd.DataFrame({\n",
        "    'title' : all_titles,\n",
        "    'label' : all_labels\n",
        "})\n",
        "\n",
        "# trainとtestに自動で分割しておく\n",
        "train, test = train_test_split(livedoor_df, \n",
        "                             test_size=0.2, random_state=42, \n",
        "                             shuffle=True, stratify=livedoor_df['label'])"
      ],
      "metadata": {
        "id": "EWOv_NwmHIfu"
      },
      "execution_count": 12,
      "outputs": []
    },
    {
      "cell_type": "code",
      "source": [
        "# 保存する\n",
        "train.to_csv('./livedoor_train.csv', index=False)\n",
        "test.to_csv('./livedoor_test.csv', index=False)"
      ],
      "metadata": {
        "id": "wysOUDvRJcce"
      },
      "execution_count": 13,
      "outputs": []
    },
    {
      "cell_type": "markdown",
      "source": [
        "## すでにファイルを保存している場合はここからスタート"
      ],
      "metadata": {
        "id": "MxSgTo-nJzKK"
      }
    },
    {
      "cell_type": "code",
      "source": [
        "# transformerとsimpletransformerをインストール(終わったら再起動の必要があります)\n",
        "!pip install transformers\n",
        "!pip install simpletransformers"
      ],
      "metadata": {
        "id": "uY2X1MLWL8hH"
      },
      "execution_count": null,
      "outputs": []
    },
    {
      "cell_type": "code",
      "source": [
        "import pandas as pd\n",
        "import numpy as np\n",
        "\n",
        "from sklearn.metrics import accuracy_score, f1_score\n",
        "\n",
        "from simpletransformers.classification import ClassificationArgs, ClassificationModel\n",
        "\n",
        "import torch\n",
        "import tqdm\n",
        "#import MeCab\n",
        "import pickle"
      ],
      "metadata": {
        "id": "NavpLeVXIf6G"
      },
      "execution_count": 5,
      "outputs": []
    },
    {
      "cell_type": "code",
      "source": [
        "train = pd.read_csv('./livedoor_train.csv')\n",
        "test = pd.read_csv('./livedoor_test.csv')"
      ],
      "metadata": {
        "id": "twlKSOoMLJ21"
      },
      "execution_count": 6,
      "outputs": []
    },
    {
      "cell_type": "code",
      "source": [
        "print(train.shape)\n",
        "display(train.head())\n",
        "train['label'].value_counts()"
      ],
      "metadata": {
        "id": "CTr0TetqLTYI"
      },
      "execution_count": null,
      "outputs": []
    },
    {
      "cell_type": "code",
      "source": [
        "print(test.shape)\n",
        "display(test.head())\n",
        "test['label'].value_counts()"
      ],
      "metadata": {
        "id": "d4WaPKSCLYoa"
      },
      "execution_count": null,
      "outputs": []
    },
    {
      "cell_type": "code",
      "source": [
        "import torch\n",
        "\n",
        "cuda_available = torch.cuda.is_available()\n",
        "# モデルの引数を指定\n",
        "model_args = ClassificationArgs()\n",
        "model_args.num_train_epochs = 5\n",
        "model_args.learning_rate = 1e-4\n",
        "# batch_sizeはOOMが出たら減らしてください\n",
        "model_args.train_batch_size = 16\n",
        "model_args.overwrite_output_dir = True\n",
        "model_args.save_model_every_epoch = False\n",
        "\n",
        "model_args"
      ],
      "metadata": {
        "id": "Wc2GUQoILtFK"
      },
      "execution_count": null,
      "outputs": []
    },
    {
      "cell_type": "code",
      "source": [
        "# modelを定義\n",
        "model = ClassificationModel(\n",
        "    'bert', 'cl-tohoku/bert-base-japanese-v2',\n",
        "    num_labels=9,\n",
        "    args=model_args\n",
        ")"
      ],
      "metadata": {
        "id": "rZF4J1-DsSWs"
      },
      "execution_count": null,
      "outputs": []
    },
    {
      "cell_type": "code",
      "source": [
        "model.train_model(train, acc=accuracy_score)"
      ],
      "metadata": {
        "id": "A_Y-XSqyOynj"
      },
      "execution_count": null,
      "outputs": []
    },
    {
      "cell_type": "code",
      "source": [
        "result, model_outputs, wrong_predictions = model.eval_model(test)\n",
        "result"
      ],
      "metadata": {
        "id": "3aLgjXO2XBaj"
      },
      "execution_count": null,
      "outputs": []
    },
    {
      "cell_type": "code",
      "source": [
        "#macro f1scoreを求める\n",
        "\n",
        "def softmax(x):\n",
        "    max = np.max(x,axis=1,keepdims=True) #returns max of each row and keeps same dims\n",
        "    e_x = np.exp(x - max) #subtracts each row with its max value\n",
        "    sum = np.sum(e_x,axis=1,keepdims=True) #returns sum of each row and keeps same dims\n",
        "    f_x = e_x / sum \n",
        "    return f_x\n",
        "\n",
        "test_preds = softmax(model_outputs).argmax(1)\n",
        "f1_score(test['label'], test_preds, average='macro')"
      ],
      "metadata": {
        "id": "ArBnB4Iifyix"
      },
      "execution_count": null,
      "outputs": []
    },
    {
      "cell_type": "code",
      "source": [
        "# tensorboardで確認\n",
        "%load_ext tensorboard\n",
        "%tensorboard --logdir runs"
      ],
      "metadata": {
        "id": "vkKztQ6pQcnK"
      },
      "execution_count": null,
      "outputs": []
    },
    {
      "cell_type": "code",
      "source": [
        "input_title = '' #@param {type:\"string\"}\n",
        "with open('label2genre.pkl', 'rb') as f:\n",
        "  label2genre = pickle.load(f)\n",
        "predictions, raw_outputs = model.predict(input_title)\n",
        "print(label2genre[predictions[0]])"
      ],
      "metadata": {
        "id": "IBNhpY_mYA4J"
      },
      "execution_count": null,
      "outputs": []
    }
  ]
}