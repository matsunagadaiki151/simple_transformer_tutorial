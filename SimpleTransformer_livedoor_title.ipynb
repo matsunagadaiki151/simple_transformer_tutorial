{
  "cells": [
    {
      "cell_type": "markdown",
      "metadata": {
        "id": "qkUwTFWDKAl9"
      },
      "source": [
        "## ここは必ず実行する．"
      ]
    },
    {
      "cell_type": "markdown",
      "metadata": {},
      "source": [
        "[![Open In Colab](https://colab.research.google.com/assets/colab-badge.svg)](http://colab.research.google.com/github/matsunagadaiki151/simple_transformer_tutorial/blob/main/SimpleTransformer_livedoor_title.ipynb)\n"
      ]
    },
    {
      "cell_type": "code",
      "execution_count": null,
      "metadata": {
        "id": "zviXGUUK5HwU"
      },
      "outputs": [],
      "source": [
        "!nvidia-smi"
      ]
    },
    {
      "cell_type": "markdown",
      "metadata": {
        "id": "NAfWx2Pg6GEL"
      },
      "source": [
        "モデルやデータセットを保存しておきたい場合はGoogle Driveで作業をしてください．"
      ]
    },
    {
      "cell_type": "code",
      "execution_count": 2,
      "metadata": {
        "id": "IeL79INX4ZPb"
      },
      "outputs": [],
      "source": [
        "drive_mount = False #@param {type:\"boolean\"}\n",
        "if drive_mount:\n",
        "  from google.colab import drive\n",
        "  drive.mount('/content/drive')\n",
        "  %cd /content/drive/MyDrive/your_folder"
      ]
    },
    {
      "cell_type": "markdown",
      "metadata": {
        "id": "WfLrQfjjKHI9"
      },
      "source": [
        "## まだcsvファイルを作っていない場合はここからスタート"
      ]
    },
    {
      "cell_type": "code",
      "execution_count": null,
      "metadata": {
        "id": "J871DGob79tm"
      },
      "outputs": [],
      "source": [
        "# livedoorニュースコーパスをインストール\n",
        "!wget https://www.rondhuit.com/download/ldcc-20140209.tar.gz\n",
        "# 解凍\n",
        "!tar -zxf ldcc-20140209.tar.gz\n",
        "!rm ldcc-20140209.tar.gz"
      ]
    },
    {
      "cell_type": "code",
      "execution_count": null,
      "metadata": {
        "id": "-qGPLqne9XJk"
      },
      "outputs": [],
      "source": [
        "# 中身を見る\n",
        "!head text/dokujo-tsushin/dokujo-tsushin-4778030.txt"
      ]
    },
    {
      "cell_type": "markdown",
      "metadata": {
        "id": "jx9Q0yNw9jj4"
      },
      "source": [
        "livedoorニュースコーパスでは，テキストファイルの3行目にタイトルが収録されています．"
      ]
    },
    {
      "cell_type": "code",
      "execution_count": 6,
      "metadata": {
        "id": "I04E38m19O6w"
      },
      "outputs": [],
      "source": [
        "import os\n",
        "import pandas as pd\n",
        "from sklearn.model_selection import train_test_split"
      ]
    },
    {
      "cell_type": "code",
      "execution_count": 7,
      "metadata": {
        "id": "AXw84VZI90X7"
      },
      "outputs": [],
      "source": [
        "data_path = './text/'"
      ]
    },
    {
      "cell_type": "code",
      "execution_count": 8,
      "metadata": {
        "colab": {
          "base_uri": "https://localhost:8080/"
        },
        "id": "p2hZtXlF9OKV",
        "outputId": "e28e980b-28ed-4657-a371-9c882109668d"
      },
      "outputs": [
        {
          "name": "stdout",
          "output_type": "stream",
          "text": [
            "['dokujo-tsushin', 'peachy', 'topic-news', 'it-life-hack', 'movie-enter', 'livedoor-homme', 'sports-watch', 'kaden-channel', 'smax']\n"
          ]
        }
      ],
      "source": [
        "data_files = os.listdir(data_path)\n",
        "# テキストディレクトリ内のデータフォルダのみを抽出する．\n",
        "data_dirs = [f for f in data_files if os.path.isdir(os.path.join(data_path, f))]\n",
        "print(data_dirs)"
      ]
    },
    {
      "cell_type": "code",
      "execution_count": null,
      "metadata": {
        "id": "1JVU9cpf-cyF"
      },
      "outputs": [],
      "source": [
        "# 各フォルダのLICENSE.txtは取り除くようにする．\n",
        "drop_files = ['LICENSE.txt']\n",
        "\n",
        "def load_titles(data_dir, label=None):\n",
        "  titles = []\n",
        "  text_path = os.path.join(data_path, data_dir)\n",
        "  text_files = os.listdir(text_path)\n",
        "  for text_file in text_files:\n",
        "    if text_file in drop_files:\n",
        "      continue\n",
        "    with open(os.path.join(text_path, text_file), 'r', encoding='utf8') as f:\n",
        "      # ファイルを読み込む\n",
        "      lines = f.read().strip().split('\\n')\n",
        "      titles.append(lines[2])\n",
        "  if label is None:\n",
        "    return titles\n",
        "  else:\n",
        "    labels = [label for i in range(len(titles))]\n",
        "    return titles, labels\n",
        "\n",
        "# 確認\n",
        "t, l = load_titles('dokujo-tsushin', 1)\n",
        "print(t[:5])\n",
        "print(l[:5])"
      ]
    },
    {
      "cell_type": "code",
      "execution_count": 10,
      "metadata": {
        "colab": {
          "base_uri": "https://localhost:8080/"
        },
        "id": "N91Vf2NmGP5b",
        "outputId": "d6d1819e-bfb0-4610-ec98-d2f3a2c34930"
      },
      "outputs": [
        {
          "name": "stdout",
          "output_type": "stream",
          "text": [
            "7367\n",
            "7367\n"
          ]
        }
      ],
      "source": [
        "all_titles = []\n",
        "all_labels = []\n",
        "label2genre = {}\n",
        "\n",
        "for i, data_dir in enumerate(data_dirs):\n",
        "  titles, labels = load_titles(data_dir, i)\n",
        "  all_titles.extend(titles)\n",
        "  all_labels.extend(labels)\n",
        "  label2genre[i] = data_dir\n",
        "  \n",
        "print(len(all_titles))\n",
        "print(len(all_labels))"
      ]
    },
    {
      "cell_type": "code",
      "execution_count": 11,
      "metadata": {
        "id": "8U7Ol_N0kRav"
      },
      "outputs": [],
      "source": [
        "import pickle\n",
        "# label2genreを保存しておく\n",
        "with open('label2genre.pkl', 'wb') as f:\n",
        "  pickle.dump(label2genre, f)"
      ]
    },
    {
      "cell_type": "code",
      "execution_count": 12,
      "metadata": {
        "id": "EWOv_NwmHIfu"
      },
      "outputs": [],
      "source": [
        "# titleとラベルが関連付けられた，データフレームを作成\n",
        "livedoor_df = pd.DataFrame({\n",
        "    'title' : all_titles,\n",
        "    'label' : all_labels\n",
        "})\n",
        "\n",
        "# trainとtestに自動で分割しておく\n",
        "train, test = train_test_split(livedoor_df, \n",
        "                             test_size=0.2, random_state=42, \n",
        "                             shuffle=True, stratify=livedoor_df['label'])"
      ]
    },
    {
      "cell_type": "code",
      "execution_count": 13,
      "metadata": {
        "id": "wysOUDvRJcce"
      },
      "outputs": [],
      "source": [
        "# 保存する\n",
        "train.to_csv('./livedoor_train.csv', index=False)\n",
        "test.to_csv('./livedoor_test.csv', index=False)"
      ]
    },
    {
      "cell_type": "markdown",
      "metadata": {
        "id": "MxSgTo-nJzKK"
      },
      "source": [
        "## すでにファイルを保存している場合はここからスタート"
      ]
    },
    {
      "cell_type": "code",
      "execution_count": null,
      "metadata": {
        "id": "uY2X1MLWL8hH"
      },
      "outputs": [],
      "source": [
        "# transformerとsimpletransformerをインストール(終わったら再起動の必要があります)\n",
        "!pip install transformers\n",
        "!pip install simpletransformers"
      ]
    },
    {
      "cell_type": "code",
      "execution_count": 5,
      "metadata": {
        "id": "NavpLeVXIf6G"
      },
      "outputs": [],
      "source": [
        "import pandas as pd\n",
        "import numpy as np\n",
        "\n",
        "from sklearn.metrics import accuracy_score, f1_score\n",
        "\n",
        "from simpletransformers.classification import ClassificationArgs, ClassificationModel\n",
        "\n",
        "import torch\n",
        "import tqdm\n",
        "#import MeCab\n",
        "import pickle"
      ]
    },
    {
      "cell_type": "code",
      "execution_count": 6,
      "metadata": {
        "id": "twlKSOoMLJ21"
      },
      "outputs": [],
      "source": [
        "train = pd.read_csv('./livedoor_train.csv')\n",
        "test = pd.read_csv('./livedoor_test.csv')"
      ]
    },
    {
      "cell_type": "code",
      "execution_count": null,
      "metadata": {
        "id": "CTr0TetqLTYI"
      },
      "outputs": [],
      "source": [
        "print(train.shape)\n",
        "display(train.head())\n",
        "train['label'].value_counts()"
      ]
    },
    {
      "cell_type": "code",
      "execution_count": null,
      "metadata": {
        "id": "d4WaPKSCLYoa"
      },
      "outputs": [],
      "source": [
        "print(test.shape)\n",
        "display(test.head())\n",
        "test['label'].value_counts()"
      ]
    },
    {
      "cell_type": "code",
      "execution_count": null,
      "metadata": {
        "id": "Wc2GUQoILtFK"
      },
      "outputs": [],
      "source": [
        "import torch\n",
        "\n",
        "cuda_available = torch.cuda.is_available()\n",
        "# モデルの引数を指定\n",
        "model_args = ClassificationArgs()\n",
        "model_args.num_train_epochs = 5\n",
        "model_args.learning_rate = 1e-4\n",
        "# batch_sizeはOOMが出たら減らしてください\n",
        "model_args.train_batch_size = 16\n",
        "model_args.overwrite_output_dir = True\n",
        "model_args.save_model_every_epoch = False\n",
        "\n",
        "model_args"
      ]
    },
    {
      "cell_type": "code",
      "execution_count": null,
      "metadata": {
        "id": "rZF4J1-DsSWs"
      },
      "outputs": [],
      "source": [
        "# modelを定義\n",
        "model = ClassificationModel(\n",
        "    'bert', 'cl-tohoku/bert-base-japanese-v2',\n",
        "    num_labels=9,\n",
        "    args=model_args\n",
        ")"
      ]
    },
    {
      "cell_type": "code",
      "execution_count": null,
      "metadata": {
        "id": "A_Y-XSqyOynj"
      },
      "outputs": [],
      "source": [
        "model.train_model(train, acc=accuracy_score)"
      ]
    },
    {
      "cell_type": "code",
      "execution_count": null,
      "metadata": {
        "id": "3aLgjXO2XBaj"
      },
      "outputs": [],
      "source": [
        "result, model_outputs, wrong_predictions = model.eval_model(test)\n",
        "result"
      ]
    },
    {
      "cell_type": "code",
      "execution_count": null,
      "metadata": {
        "id": "ArBnB4Iifyix"
      },
      "outputs": [],
      "source": [
        "#macro f1scoreを求める\n",
        "\n",
        "def softmax(x):\n",
        "    max = np.max(x,axis=1,keepdims=True) #returns max of each row and keeps same dims\n",
        "    e_x = np.exp(x - max) #subtracts each row with its max value\n",
        "    sum = np.sum(e_x,axis=1,keepdims=True) #returns sum of each row and keeps same dims\n",
        "    f_x = e_x / sum \n",
        "    return f_x\n",
        "\n",
        "test_preds = softmax(model_outputs).argmax(1)\n",
        "f1_score(test['label'], test_preds, average='macro')"
      ]
    },
    {
      "cell_type": "code",
      "execution_count": null,
      "metadata": {
        "id": "vkKztQ6pQcnK"
      },
      "outputs": [],
      "source": [
        "# tensorboardで確認\n",
        "%load_ext tensorboard\n",
        "%tensorboard --logdir runs"
      ]
    },
    {
      "cell_type": "code",
      "execution_count": null,
      "metadata": {
        "id": "IBNhpY_mYA4J"
      },
      "outputs": [],
      "source": [
        "input_title = '' #@param {type:\"string\"}\n",
        "with open('label2genre.pkl', 'rb') as f:\n",
        "  label2genre = pickle.load(f)\n",
        "predictions, raw_outputs = model.predict(input_title)\n",
        "print(label2genre[predictions[0]])"
      ]
    }
  ],
  "metadata": {
    "accelerator": "GPU",
    "colab": {
      "collapsed_sections": [],
      "name": "SimpleTransformer_livedoor_title.ipynb",
      "provenance": []
    },
    "kernelspec": {
      "display_name": "Python 3",
      "name": "python3"
    },
    "language_info": {
      "name": "python"
    }
  },
  "nbformat": 4,
  "nbformat_minor": 0
}